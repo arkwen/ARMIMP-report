{
 "cells": [
  {
   "cell_type": "code",
   "execution_count": 2,
   "metadata": {},
   "outputs": [
    {
     "name": "stdout",
     "output_type": "stream",
     "text": [
      "Using device: cuda\n"
     ]
    }
   ],
   "source": [
    "import torch\n",
    "import numpy as np\n",
    "\n",
    "\"\"\"Initialize appropriate computing device and random number generator\"\"\"\n",
    "device = torch.device('cuda' if torch.cuda.is_available() else 'cpu')\n",
    "print(f\"Using device: {device}\")\n",
    "\n",
    "rng = np.random.default_rng(seed=42)"
   ]
  },
  {
   "cell_type": "code",
   "execution_count": 3,
   "metadata": {},
   "outputs": [],
   "source": [
    "import matplotlib.pyplot as plt\n",
    "from scipy.linalg import hadamard\n",
    "\n",
    "def generate_hadamard_matrix(size: int) -> np.ndarray:\n",
    "    \"\"\"Generate normalized Hadamard matrix of given size.\n",
    "    \n",
    "    Args:\n",
    "        size (int): Matrix size (must be power of 2).\n",
    "    \n",
    "    Returns:\n",
    "        np.ndarray: Normalized Hadamard matrix (values in [0, 1]) \n",
    "                              or None if size is invalid.\n",
    "    \"\"\"\n",
    "    try:\n",
    "        return (hadamard(size) + 1) / 2  # Normalize to [0, 1] range\n",
    "    except ValueError:\n",
    "        raise ValueError(f\"Size must be a power of 2, got {size}\")\n",
    "\n",
    "\n",
    "def generate_hadamard_masks(size: int, num_masks: int) -> np.ndarray:\n",
    "    \"\"\"Generate random Hadamard masks.\n",
    "    \n",
    "    Args:\n",
    "        size (int): Base size (N) for N x N masks.\n",
    "        num_masks (int): Number of masks to generate..\n",
    "    \n",
    "    Returns:\n",
    "        np.ndarray: Array of shape (num_masks, size, size)\n",
    "    \"\"\"\n",
    "    full_size = size ** 2\n",
    "    hadamard_matrix = generate_hadamard_matrix(full_size)\n",
    "    \n",
    "    random_indices = rng.choice(full_size, num_masks, replace=False)\n",
    "    return hadamard_matrix[random_indices].reshape(num_masks, size, size)\n",
    "\n",
    "\n",
    "def visualize_mask(mask: np.ndarray, title: str = \"Hadamard Mask\") -> None:\n",
    "    \"\"\"Visualize binary mask.\n",
    "    \n",
    "    Args:\n",
    "        mask (np.ndarray): 2D array to visualize.\n",
    "        title (str, optional): Plot title. Defaults to \"Hadamard Mask\".\n",
    "    \"\"\"\n",
    "    plt.figure()\n",
    "    ax = plt.gca()\n",
    "    \n",
    "    ax.imshow(mask, cmap='gray')\n",
    "    ax.set_title(title)\n",
    "    ax.tick_params(\n",
    "        axis='both', \n",
    "        which='both', \n",
    "        bottom=False, \n",
    "        left=False,\n",
    "        labelbottom=False, \n",
    "        labelleft=False\n",
    "    )\n",
    "\n",
    "    plt.tight_layout()\n",
    "    plt.show()"
   ]
  },
  {
   "cell_type": "code",
   "execution_count": 4,
   "metadata": {},
   "outputs": [
    {
     "data": {
      "image/png": "[encoded data removed]",
      "text/plain": [
       "<Figure size 640x480 with 1 Axes>"
      ]
     },
     "metadata": {},
     "output_type": "display_data"
    }
   ],
   "source": [
    "masks = generate_hadamard_masks(32, 1024)\n",
    "visualize_mask(masks[0])\n",
    "masks = masks.reshape(1024, -1)"
   ]
  },
  {
   "cell_type": "code",
   "execution_count": 5,
   "metadata": {},
   "outputs": [],
   "source": [
    "from scipy.fftpack import dct, idct\n",
    "\n",
    "def dct2(x: np.ndarray) -> np.ndarray:\n",
    "    \"\"\"Perform 2D Discrete Cosine Transform.\n",
    "    \n",
    "    Args:\n",
    "        x (np.ndarray): Input 2D array.\n",
    "    \n",
    "    Returns:\n",
    "        np.ndarray: 2D DCT transformed array (not shifted).\n",
    "    \"\"\"\n",
    "    return dct(dct(x.T, norm='ortho').T, norm='ortho')\n",
    "\n",
    "\n",
    "def idct2(x: np.ndarray) -> np.ndarray:\n",
    "    \"\"\"Perform 2D Inverse Discrete Cosine Transform.\n",
    "    \n",
    "    Args:\n",
    "        x (np.ndarray): Input 2D array.\n",
    "    \n",
    "    Returns:\n",
    "        np.ndarray: 2D IDCT transformed array.\n",
    "    \"\"\"\n",
    "    return idct(idct(x.T, norm='ortho').T, norm='ortho')\n",
    "\n",
    "\n",
    "def create_dct_basis(size: int) -> np.ndarray:\n",
    "    \"\"\"Create DCT basis matrix.\n",
    "    \n",
    "    Args:\n",
    "        size (int): Size of the basis (will create size² x size² matrix).\n",
    "    \n",
    "    Returns:\n",
    "        np.ndarray: DCT basis matrix of shape (size², size²).\n",
    "    \"\"\"\n",
    "    basis_size = size ** 2\n",
    "    basis = np.zeros((basis_size, basis_size))\n",
    "    \n",
    "    for i in range(size):\n",
    "        for j in range(size):\n",
    "            x = np.zeros((size, size))\n",
    "            x[i, j] = 1\n",
    "            basis[i*size + j, :] = idct2(x).flatten()\n",
    "    \n",
    "    return basis\n",
    "\n",
    "\n",
    "def calculate_coherence(measurement_matrix: np.ndarray, basis_matrix: np.ndarray,) -> np.ndarray:\n",
    "    \"\"\"Calculate and visualize coherence between matrices.\n",
    "    \n",
    "    Args:\n",
    "        measurement_matrix (np.ndarray): Measurement matrix (M x N).\n",
    "        basis_matrix (np.ndarray): Basis matrix (N x N).\n",
    "    \n",
    "    Returns:\n",
    "        np.ndarray: Sorted matrix.\n",
    "    \"\"\"\n",
    "    # Calculate coherence\n",
    "    products = np.sqrt(1024)*np.dot(measurement_matrix, basis_matrix)\n",
    "    products /= np.diag(np.dot(measurement_matrix, measurement_matrix.T))\n",
    "    \n",
    "    max_coherence = np.max(np.abs(products), axis=1)\n",
    "    sorted_indices = np.argsort(max_coherence)\n",
    "    \n",
    "    # Visualization\n",
    "    fig, axes = plt.subplots(1, 2, figsize=(12, 5))\n",
    "    \n",
    "    axes[0].plot(max_coherence)\n",
    "    axes[0].set_title('Coherence (Original Order)')\n",
    "    axes[0].set_ylabel('Coherence')\n",
    "    axes[0].grid(True)\n",
    "    \n",
    "    axes[1].plot(np.sort(max_coherence))\n",
    "    axes[1].set_title('Sorted Coherence')\n",
    "    axes[1].grid(True)\n",
    "    \n",
    "    plt.show()\n",
    "    plt.tight_layout()\n",
    "\n",
    "    sorted_matrix = measurement_matrix[sorted_indices]\n",
    "    \n",
    "    return sorted_matrix"
   ]
  },
  {
   "cell_type": "code",
   "execution_count": 6,
   "metadata": {},
   "outputs": [
    {
     "data": {
      "image/png": "[encoded data removed]",
      "text/plain": [
       "<Figure size 1200x500 with 2 Axes>"
      ]
     },
     "metadata": {},
     "output_type": "display_data"
    },
    {
     "data": {
      "text/plain": [
       "<Figure size 640x480 with 0 Axes>"
      ]
     },
     "metadata": {},
     "output_type": "display_data"
    }
   ],
   "source": [
    "dct_basis = create_dct_basis(32)\n",
    "masks_sorted = calculate_coherence(masks, dct_basis)"
   ]
  },
  {
   "cell_type": "code",
   "execution_count": 22,
   "metadata": {},
   "outputs": [],
   "source": [
    "from torchvision import datasets, transforms\n",
    "from torch.utils.data import DataLoader\n",
    "\n",
    "BATCH_SIZE = 32\n",
    "NUM_WORKERS = 0\n",
    "\n",
    "\n",
    "def get_data_loaders():\n",
    "    \"\"\"Create and return train DataLoader with metadata.\n",
    "    \n",
    "    Returns:\n",
    "        DataLoader, DataLoader: Train and test DataLoaders.\n",
    "    \"\"\"\n",
    "    # Define transforms\n",
    "    transform = transforms.Compose([\n",
    "        transforms.ToTensor(),\n",
    "        transforms.Pad(2), # To obtain size 32x32\n",
    "    ])\n",
    "    \n",
    "    # Load dataset\n",
    "    train_dataset = datasets.MNIST('./data', train=True, download=True, \n",
    "                                        transform=transform)\n",
    "    test_dataset = datasets.MNIST('./data', train=False, download=True, \n",
    "                                        transform=transform)\n",
    "        \n",
    "    # Create DataLoader\n",
    "    train_loader = DataLoader(\n",
    "        dataset=train_dataset,\n",
    "        batch_size=BATCH_SIZE,\n",
    "        shuffle=True,\n",
    "        num_workers=NUM_WORKERS,\n",
    "        pin_memory=True\n",
    "    )\n",
    "\n",
    "    train_loader = DataLoader(\n",
    "        dataset=test_dataset,\n",
    "        batch_size=BATCH_SIZE,\n",
    "        shuffle=False,\n",
    "        num_workers=NUM_WORKERS,\n",
    "        pin_memory=True\n",
    "    )\n",
    "    \n",
    "    return train_loader, test_loader\n",
    "\n",
    "\n",
    "def visualize_random_sample(data_loader: DataLoader) -> None:\n",
    "    \"\"\"Visualize random sample from DataLoader.\n",
    "    \n",
    "    Args:\n",
    "        data_loader (DataLoader): DataLoader with images.\n",
    "    \"\"\"\n",
    "    # Get random batch\n",
    "    images, labels = next(iter(data_loader))\n",
    "    \n",
    "    # Select random image from batch\n",
    "    image = images[0]\n",
    "    label = labels[0]\n",
    "    \n",
    "    # Create plot\n",
    "    fig, ax = plt.subplots(figsize=(5, 5))\n",
    "    ax.imshow(image.squeeze().numpy(), cmap=\"gray\")\n",
    "    ax.set_title(f\"Label: {label}\")\n",
    "    ax.axis('off')\n",
    "    plt.tight_layout()\n",
    "    plt.show()"
   ]
  },
  {
   "cell_type": "code",
   "execution_count": 23,
   "metadata": {},
   "outputs": [
    {
     "data": {
      "image/png": "[encoded data removed]",
      "text/plain": [
       "<Figure size 500x500 with 1 Axes>"
      ]
     },
     "metadata": {},
     "output_type": "display_data"
    }
   ],
   "source": [
    "train_loader, test_loader = get_data_loaders()\n",
    "visualize_random_sample(train_loader)"
   ]
  },
  {
   "cell_type": "code",
   "execution_count": 9,
   "metadata": {},
   "outputs": [],
   "source": [
    "from scipy.stats import pearsonr\n",
    "from tqdm import tqdm\n",
    "from sklearn.linear_model import Lasso\n",
    "from skimage.metrics import structural_similarity\n",
    "from collections import defaultdict\n",
    "from typing import Dict, List, Tuple\n",
    "\n",
    "# Constants\n",
    "MEASUREMENTS = np.arange(10, 1024, 20)\n",
    "ALPHA = 0.01  # Lasso regularization parameter\n",
    "THRESHOLDS = (0.3, 0.4)  # Denoising thresholds\n",
    "\n",
    "def prepare_class_images(train_loader: DataLoader, num_classes: int = 10, images_per_class: int = 10) -> Dict[int, List[torch.Tensor]]:\n",
    "    \"\"\"Prepare dictionary with sample images for each class.\n",
    "    \n",
    "    Args:\n",
    "        train_loader: DataLoader with training data\n",
    "        num_classes: Number of classes to collect\n",
    "        images_per_class: Number of images per class to collect\n",
    "        \n",
    "    Returns:\n",
    "        Dictionary with class indices as keys and lists of images as values\n",
    "    \"\"\"\n",
    "    class_images = defaultdict(list)\n",
    "    \n",
    "    for images, labels in train_loader:\n",
    "        for img, label in zip(images, labels):\n",
    "            class_id = label.item()\n",
    "            if class_id < num_classes and len(class_images[class_id]) < images_per_class:\n",
    "                class_images[class_id].append(img)\n",
    "        \n",
    "        # Early stopping if we have enough images for all classes\n",
    "        if len(class_images) == num_classes and \\\n",
    "           all(len(v) >= images_per_class for v in class_images.values()):\n",
    "            break\n",
    "            \n",
    "    return dict(class_images)\n",
    "\n",
    "def spc_transform(image: torch.Tensor, num_measurements: int, alpha: float = ALPHA,\n",
    "    thresholds: Tuple[float, float] = THRESHOLDS) -> np.ndarray:\n",
    "    \"\"\"Perform Sparse Recovery using Lasso.\n",
    "    \n",
    "    Args:\n",
    "        image: Input image tensor (N x N)\n",
    "        num_measurements: Number of measurements to use\n",
    "        alpha: Lasso regularization parameter\n",
    "        thresholds: Denoising thresholds (low, high)\n",
    "        \n",
    "    Returns:\n",
    "        Recovered and denoised image\n",
    "    \"\"\"\n",
    "    # Select measurements\n",
    "    A = masks_sorted[:num_measurements]\n",
    "    \n",
    "    Theta = A @ dct_basis\n",
    "    x = image.flatten().cpu().numpy()\n",
    "    y = A @ x\n",
    "    \n",
    "    # Lasso regression\n",
    "    lasso = Lasso(alpha=alpha, max_iter=400000, tol=1e-8)\n",
    "    lasso.fit(Theta, y)\n",
    "    s_recovered = lasso.coef_\n",
    "    \n",
    "    # Reconstruct image\n",
    "    x_recovered = dct_basis @ s_recovered\n",
    "    im_recovered = x_recovered.reshape(32, -1)\n",
    "    \n",
    "    # Simple denoising\n",
    "    im_recovered_denoised = im_recovered.copy()\n",
    "    im_recovered_denoised[im_recovered_denoised < thresholds[0]] = 0\n",
    "    im_recovered_denoised[im_recovered_denoised > thresholds[1]] = 1\n",
    "    \n",
    "    return im_recovered_denoised\n",
    "\n",
    "def calculate_pearson_correlation_and_ssim(image: torch.Tensor,num_measurements: int) -> Tuple[float, float]:\n",
    "    \"\"\"Calculate Pearson correlation for original and recovered images.\n",
    "    \n",
    "    Args:\n",
    "        image: Input image tensor\n",
    "        num_measurements: Number of measurements to use\n",
    "        \n",
    "    Returns:\n",
    "        Tuple of (correlation, structural similarity)\n",
    "    \"\"\"\n",
    "    im_np = image.flatten().cpu().numpy()\n",
    "    \n",
    "    # Recover images with both methods\n",
    "    im_rec = spc_transform(image, num_measurements)\n",
    "    \n",
    "    return (pearsonr(im_np, im_rec.flatten())[0],\n",
    "            structural_similarity(im_np, im_rec.flatten(), data_range = 1))\n",
    "\n",
    "def analyze_class_correlations(class_images: Dict[int, List[torch.Tensor]],\n",
    "    measurements: np.ndarray = MEASUREMENTS) -> Tuple[np.ndarray, np.ndarray, np.ndarray, np.ndarray]:\n",
    "    \"\"\"Analyze correlations and structural similarity for all classes.\n",
    "    \n",
    "    Args:\n",
    "        class_images: Dictionary of images by class\n",
    "        measurements: Array of measurement counts to test\n",
    "        \n",
    "    Returns:\n",
    "        Tuple of (avg_pearson, std_pearson, avg_ssim, std_ssim)\n",
    "    \"\"\"\n",
    "    num_classes = len(class_images)\n",
    "    num_measurements = len(measurements)\n",
    "    \n",
    "    # Initialize result arrays\n",
    "    all_pearson_mean = np.zeros((num_classes, num_measurements))\n",
    "    all_ssim_mean = np.zeros((num_classes, num_measurements))\n",
    "    all_pearson_std = np.zeros((num_classes, num_measurements))\n",
    "    all_ssim_std = np.zeros((num_classes, num_measurements))\n",
    "    \n",
    "    for class_idx, images in tqdm(class_images.items(), desc=\"Processing classes\"):\n",
    "        class_results = []\n",
    "        class_results_ssim = []\n",
    "        \n",
    "        for img in images:\n",
    "            im = img.reshape(32, -1)\n",
    "            pearson_vals = []\n",
    "            ssim_vals = []\n",
    "            \n",
    "            for M in measurements:\n",
    "                coefs = calculate_pearson_correlation_and_ssim(im, M)\n",
    "                pearson_vals.append(coefs[0])\n",
    "                ssim_vals.append(coefs[1])\n",
    "                \n",
    "            class_results.append(pearson_vals)\n",
    "            class_results_ssim.append(ssim_vals)\n",
    "        \n",
    "        # Store class averages\n",
    "        all_pearson_mean[class_idx] = np.mean(class_results, axis=0)\n",
    "        all_ssim_mean[class_idx] = np.mean(class_results_ssim, axis=0)\n",
    "        all_pearson_std[class_idx] = np.std(class_results, axis=0)\n",
    "        all_ssim_std[class_idx] = np.std(class_results_ssim, axis=0)\n",
    "\n",
    "    \n",
    "    return all_pearson_mean, all_ssim_mean, all_pearson_std, all_ssim_std\n",
    "\n",
    "def plot_results(class_images: Dict[int, List[torch.Tensor]], avg_pearson: np.ndarray, avg_ssim: np.ndarray,\n",
    "    std_pearson, std_ssim, measurements: np.ndarray = MEASUREMENTS) -> None:\n",
    "    \"\"\"Plot correlation results for all classes.\n",
    "    \n",
    "    Args:\n",
    "        class_images: Dictionary of images by class\n",
    "        avg_pearson: Average Pearson correlations (ordered)\n",
    "        avg_ssim: Average structural similarity\n",
    "        std_pearson: Standard deviation of Pearson correlation\n",
    "        std_ssim: Standard deviation of structural similarity\n",
    "        measurements: Array of measurement counts\n",
    "    \"\"\"\n",
    "    num_classes = len(class_images)\n",
    "    fig, axes = plt.subplots(num_classes, 2, figsize=(20, 5*num_classes), squeeze=False)\n",
    "    \n",
    "    for class_idx in range(num_classes):\n",
    "        # Plot example image\n",
    "        example_img = class_images[class_idx][0].reshape(32, -1)\n",
    "        axes[class_idx, 0].imshow(example_img, cmap='gray')\n",
    "        axes[class_idx, 0].set_title(f'Class {class_idx} (example)')\n",
    "        axes[class_idx, 0].axis('off')\n",
    "        \n",
    "        # Plot correlations\n",
    "        ax = axes[class_idx, 1]\n",
    "        ax.plot(measurements, avg_pearson[class_idx], \n",
    "               label='Correlation')\n",
    "        ax.plot(measurements, avg_ssim[class_idx], \n",
    "               color='r', label='SSIM')\n",
    "        ax.fill_between(measurements, \n",
    "                avg_pearson[class_idx] - std_pearson[class_idx],\n",
    "                avg_pearson[class_idx] + std_pearson[class_idx],\n",
    "                alpha=0.2, color='blue')\n",
    "        ax.fill_between(measurements, \n",
    "            avg_ssim[class_idx] - std_ssim[class_idx],\n",
    "            avg_ssim[class_idx] + std_ssim[class_idx],\n",
    "            alpha=0.2, color='r')\n",
    "        ax.set_title(f'Average Correlation and SSIM for Class {class_idx}')\n",
    "        ax.set_xlabel('Number of Measurements')\n",
    "        ax.set_ylabel('Pearson Correlation and Structural Similarity')\n",
    "        ax.set_ylim(0, 1)\n",
    "        ax.grid()\n",
    "        ax.axhline(y=0.5, color='r', linestyle='--', alpha=0.5)\n",
    "        ax.axhline(y=0.8, color='g', linestyle='--', alpha=0.5)\n",
    "        ax.legend()\n",
    "    \n",
    "    plt.tight_layout()\n",
    "    plt.show()"
   ]
  },
  {
   "cell_type": "code",
   "execution_count": null,
   "metadata": {},
   "outputs": [],
   "source": [
    "class_images = prepare_class_images(train_loader)\n",
    "avg_pearson, avg_ssim, std_pearson, std_ssim = analyze_class_correlations(class_images)\n",
    "plot_results(class_images, avg_pearson, avg_ssim, std_pearson, std_ssim)"
   ]
  },
  {
   "cell_type": "code",
   "execution_count": 11,
   "metadata": {},
   "outputs": [],
   "source": [
    "from skimage.util import random_noise\n",
    "from scipy.ndimage import gaussian_filter\n",
    "\n",
    "def add_blur_noise(image: np.ndarray, noise_type: str = 'gaussian', intensity: float = 0.1, sigma: float = 1.0,\n",
    "    denoise_thresholds: Tuple[float, float] = THRESHOLDS, clip_range: Tuple[float, float] = (0, 1)) -> np.ndarray:\n",
    "    \"\"\"Add blur and noise to image with optional denoising.\n",
    "    \n",
    "    Args:\n",
    "        image: Input image (2D numpy array)\n",
    "        noise_type: Type of noise to add ('gaussian', 'salt_pepper', 'poisson', 'speckle')\n",
    "        intensity: Noise intensity (interpretation depends on noise_type)\n",
    "        sigma: Standard deviation for Gaussian blur\n",
    "        denoise_thresholds: Thresholds for simple denoising (low, high)\n",
    "        clip_range: Range to clip final image values\n",
    "        \n",
    "    Returns:\n",
    "        Processed image with same shape as input\n",
    "    \n",
    "    Raises:\n",
    "        ValueError: If invalid noise_type is provided\n",
    "    \"\"\"\n",
    "    # Validate input\n",
    "    if noise_type not in ['gaussian', 'salt_pepper', 'poisson', 'speckle']:\n",
    "        raise ValueError(f\"Invalid noise_type. Must be one of: 'gaussian', 'salt_pepper', 'poisson', 'speckle'\")\n",
    "    \n",
    "    if len(image.shape) != 2:\n",
    "        raise ValueError(\"Input image must be 2D array\")\n",
    "    \n",
    "    # Apply Gaussian blur\n",
    "    blurred = gaussian_filter(image, sigma=sigma)\n",
    "    \n",
    "    # Apply selected noise\n",
    "    if noise_type == 'gaussian':\n",
    "        noisy = random_noise(blurred, mode='gaussian', var=intensity**2)\n",
    "    elif noise_type == 'salt_pepper':\n",
    "        noisy = random_noise(blurred, mode='s&p', amount=intensity)\n",
    "    elif noise_type == 'poisson':\n",
    "        noisy = random_noise(blurred, mode='poisson')\n",
    "    else:  # speckle\n",
    "        noisy = random_noise(blurred, mode='speckle', var=intensity**2)\n",
    "    \n",
    "    # Simple threshold-based denoising\n",
    "    denoised = noisy.copy()\n",
    "    denoised[denoised < denoise_thresholds[0]] = 0\n",
    "    denoised[denoised > denoise_thresholds[1]] = 1\n",
    "    \n",
    "    # Clip to specified range\n",
    "    return np.clip(denoised, *clip_range)"
   ]
  },
  {
   "cell_type": "code",
   "execution_count": 53,
   "metadata": {},
   "outputs": [],
   "source": [
    "from sklearn.metrics import accuracy_score, precision_score, recall_score, f1_score\n",
    "import torch.nn as nn\n",
    "import torch.optim as optim\n",
    "from torch.nn import functional as F\n",
    "\n",
    "\n",
    "def calculate_metrics(model: nn.Module, data_loader: DataLoader, return_confusion: bool = False):\n",
    "    \"\"\"Calculate classification metrics for a model on given data.\n",
    "    \n",
    "    Args:\n",
    "        model: PyTorch model to evaluate\n",
    "        data_loader: DataLoader with evaluation data\n",
    "        device: Device to run calculations on\n",
    "        return_confusion: Whether to return confusion matrix\n",
    "        \n",
    "    Returns:\n",
    "        Tuple with (accuracy, precision, recall, f1) or \n",
    "        (accuracy, precision, recall, f1, confusion_matrix) if return_confusion=True\n",
    "        \n",
    "    Example:\n",
    "        >>> accuracy, precision, recall, f1 = calculate_metrics(model, test_loader, device)\n",
    "    \"\"\"\n",
    "    model.eval()\n",
    "    true_labels = []\n",
    "    pred_labels = []\n",
    "    \n",
    "    # Collect predictions\n",
    "    with torch.no_grad():\n",
    "        for images, labels in data_loader:\n",
    "            images = images.to(device)\n",
    "            labels = labels.to(device)\n",
    "            \n",
    "            outputs = model(images)\n",
    "            _, predicted = torch.max(outputs, 1)\n",
    "            \n",
    "            true_labels.extend(labels.cpu().numpy())\n",
    "            pred_labels.extend(predicted.cpu().numpy())\n",
    "    \n",
    "    # Convert to numpy arrays\n",
    "    true_labels = np.array(true_labels)\n",
    "    pred_labels = np.array(pred_labels)\n",
    "    \n",
    "    # Calculate metrics\n",
    "    metrics = {\n",
    "        'accuracy': accuracy_score(true_labels, pred_labels),\n",
    "        'precision': precision_score(true_labels, pred_labels, average='macro'),\n",
    "        'recall': recall_score(true_labels, pred_labels, average='macro'),\n",
    "        'f1': f1_score(true_labels, pred_labels, average='macro')\n",
    "    }\n",
    "    \n",
    "    # Calculate confusion matrix if requested\n",
    "    if return_confusion:\n",
    "        from sklearn.metrics import confusion_matrix\n",
    "        confusion = confusion_matrix(true_labels, pred_labels)\n",
    "        return metrics['accuracy'], metrics['precision'], metrics['recall'], metrics['f1'], confusion\n",
    "    \n",
    "    return metrics['accuracy'], metrics['precision'], metrics['recall'], metrics['f1']"
   ]
  },
  {
   "cell_type": "code",
   "execution_count": 18,
   "metadata": {},
   "outputs": [],
   "source": [
    "from torch.utils.data import Dataset, Subset\n",
    "from sklearn.model_selection import train_test_split\n",
    "\n",
    "# Constants\n",
    "TRANSFORM_TEST_SIZE = 0.1\n",
    "MEASUREMENTS = np.arange(10, 1024, 10)\n",
    "\n",
    "\n",
    "class ProcessedMNIST(Dataset):\n",
    "    \"\"\"Custom dataset for processed MNIST images with targets.\"\"\"\n",
    "    def __init__(self, data: torch.Tensor, targets: torch.Tensor):\n",
    "        \"\"\"\n",
    "        Args:\n",
    "            data (torch.Tensor): Tensor of processed images\n",
    "            targets (torch.Tensor): Tensor of corresponding labels\n",
    "        \"\"\"\n",
    "        self.data = data\n",
    "        self.targets = targets\n",
    "        \n",
    "    def __len__(self) -> int:\n",
    "        return len(self.data)\n",
    "    \n",
    "    def __getitem__(self, idx: int) -> Tuple[torch.Tensor, torch.Tensor]:\n",
    "        return self.data[idx], self.targets[idx]\n",
    "\n",
    "\n",
    "test_transform = transforms.Compose([\n",
    "    transforms.ToTensor(),\n",
    "    transforms.Pad(2),\n",
    "])\n",
    "\n",
    "test_dataset = datasets.MNIST('./data', train=False,download=True,transform=test_transform)\n",
    "\n",
    "# Split indices\n",
    "indices = np.arange(len(test_dataset))\n",
    "standard_idx, transform_idx = train_test_split(indices, test_size=TRANSFORM_TEST_SIZE, random_state=42)\n",
    "\n",
    "# Create subsets\n",
    "standard_test = Subset(test_dataset, standard_idx)\n",
    "transform_test = Subset(test_dataset, transform_idx)\n",
    "\n",
    "# Create dataloaders\n",
    "test_loader = DataLoader(\n",
    "    standard_test, \n",
    "    batch_size=BATCH_SIZE, \n",
    "    shuffle=False, \n",
    "    pin_memory=True, \n",
    "    num_workers=NUM_WORKERS\n",
    ")\n",
    "\n",
    "transform_loader = DataLoader(\n",
    "    transform_test, \n",
    "    batch_size=BATCH_SIZE, \n",
    "    shuffle=False, \n",
    "    pin_memory=True, \n",
    "    num_workers=NUM_WORKERS\n",
    ")\n",
    "\n",
    "def create_processed_dataset(\n",
    "    dataset: Subset,\n",
    "    measurement: int,\n",
    "    name: str,\n",
    "    processing_type: str = 'spc',\n",
    "    random_measurement: bool = False,\n",
    "    save: bool = True,\n",
    ") -> ProcessedMNIST:\n",
    "    \"\"\"Create processed dataset with specified transformations.\n",
    "    \n",
    "    Args:\n",
    "        dataset: Input dataset to process\n",
    "        measurement: Measurement parameter M\n",
    "        name: Name of the file\n",
    "        processing_type: Type of processing to apply\n",
    "        random_measurement: Whether to use random measurements\n",
    "        save: Whether to save the processed dataset\n",
    "        \n",
    "    Returns:\n",
    "        ProcessedMNIST dataset\n",
    "    \"\"\"\n",
    "    # Collect all images and labels\n",
    "    images, labels = [], []\n",
    "    for img, label in dataset:\n",
    "        images.append(img)\n",
    "        labels.append(label)\n",
    "    \n",
    "    images = torch.stack(images)\n",
    "    labels = torch.tensor(labels)\n",
    "    \n",
    "    # Process images\n",
    "    processed_images = []\n",
    "    for img in tqdm(images, desc=f'Processing M={measurement}'):\n",
    "        img = img.unsqueeze(0).to(device)  # Add channel dim\n",
    "        \n",
    "        if processing_type == 'vector':\n",
    "            if random_measurement:\n",
    "                current_m = np.random.randint(10, 1024)\n",
    "                processed_img = torch.tensor(SPC_output(img, current_m))\n",
    "            else:\n",
    "                processed_img = torch.tensor(SPC_output(img, measurement))\n",
    "        elif processing_type == 'noisy':\n",
    "            processed_img = torch.tensor(add_blur_noise(img.cpu()))\n",
    "        elif processing_type == 'noisy_spc':\n",
    "            noisy_img = torch.tensor(add_blur_noise(img.cpu()))\n",
    "            processed_img = torch.tensor(spc_transform(noisy_img, measurement))\n",
    "        else:  # 'spc'\n",
    "            processed_img = torch.tensor(spc_transform(img, measurement))\n",
    "        \n",
    "        processed_images.append(processed_img.cpu())\n",
    "    \n",
    "    # Create dataset\n",
    "    processed_data = torch.stack(processed_images)\n",
    "    processed_dataset = ProcessedMNIST(processed_data, labels)\n",
    "    \n",
    "    # Save if requested\n",
    "    if save:\n",
    "        # Generate descriptive filename\n",
    "        name += f\"_MNIST_{processing_type}\"\n",
    "        if random_measurement and processing_type == 'vector':\n",
    "            name += \"_random\"\n",
    "        name += f\"_M{measurement}.pt\"\n",
    "        \n",
    "        torch.save(processed_dataset, name)\n",
    "        print(f\"Dataset saved to {name }\")\n",
    "    \n",
    "    return processed_dataset"
   ]
  },
  {
   "cell_type": "code",
   "execution_count": 76,
   "metadata": {},
   "outputs": [],
   "source": [
    "# Constants\n",
    "LEARNING_RATE = 1e-3\n",
    "EPOCHS = 10\n",
    "\n",
    "def train_model(\n",
    "    model: nn.Module,\n",
    "    train_loader: DataLoader,\n",
    "    test_loader: DataLoader,\n",
    "    save_path: str\n",
    ") -> Tuple[float, float]:\n",
    "    \"\"\"Train and evaluate a model.\n",
    "    \n",
    "    Args:\n",
    "        model: Model to train\n",
    "        train_loader: Training data loader\n",
    "        test_loader: Test data loader\n",
    "        save_path: Name of the model\n",
    "        \n",
    "    Returns:\n",
    "        Tuple of (best_train_accuracy, final_test_accuracy)\n",
    "    \"\"\"\n",
    "    optimizer = optim.Adam(model.parameters(), lr=LEARNING_RATE)\n",
    "    criterion = nn.CrossEntropyLoss()\n",
    "    best_accuracy = 0.0\n",
    "\n",
    "    for epoch in range(EPOCHS):\n",
    "        # Training phase\n",
    "        model.train()\n",
    "        \n",
    "        for images, labels in train_loader:\n",
    "            images, labels = images.to(device), labels.to(device)\n",
    "            \n",
    "            optimizer.zero_grad()\n",
    "            outputs = model(images)\n",
    "            loss = criterion(outputs, labels)\n",
    "            loss.backward()\n",
    "            optimizer.step()\n",
    "        \n",
    "        \n",
    "        # Evaluation\n",
    "        train_accuracy, *_ = calculate_metrics(model, train_loader)\n",
    "        test_accuracy, *_ = calculate_metrics(model, test_loader)\n",
    "        if epoch % 3 == 0:\n",
    "            print(f'\\nEpoch {epoch+1} Results:')\n",
    "            print(f'Train Accuracy: {train_accuracy:.4f}')\n",
    "            print(f'Test Accuracy: {test_accuracy:.4f}')\n",
    "        \n",
    "        # Save best model\n",
    "        if test_accuracy > best_accuracy:\n",
    "            best_accuracy = test_accuracy\n",
    "            torch.save(model, save_path)\n",
    "\n",
    "    return train_accuracy, test_accuracy\n",
    "\n",
    "def analyze_model_accuracy(\n",
    "    model: nn.Module,\n",
    "    show_plot: bool = True\n",
    ") -> Dict[str, List[float]]:\n",
    "    \"\"\"Analyze model accuracy across different measurements.\n",
    "    \n",
    "    Args:\n",
    "        model: Model to evaluate\n",
    "        show_plot: Whether to display results plot\n",
    "        \n",
    "    Returns:\n",
    "        Dictionary of metric lists {'accuracy': [...], 'precision': [...], ...}\n",
    "    \"\"\"\n",
    "    metrics = {\n",
    "        'accuracy': [],\n",
    "        'precision': [],\n",
    "        'recall': [],\n",
    "        'f1': []\n",
    "    }\n",
    "    \n",
    "    for M in tqdm(MEASUREMENTS, desc=\"Analyzing measurements\"):\n",
    "        # Load dataset\n",
    "        dataset_path = f\"MNIST transform_testfor m = {M}.pt\"\n",
    "        transform_test = torch.load(dataset_path, weights_only=False)\n",
    "        transform_test.data = transform_test.data.float()\n",
    "        transform_loader = DataLoader(\n",
    "            transform_test,\n",
    "            batch_size=BATCH_SIZE,\n",
    "            shuffle=False,\n",
    "            pin_memory=True,\n",
    "            num_workers=NUM_WORKERS\n",
    "        )\n",
    "        \n",
    "        # Calculate metrics\n",
    "        acc, prec, rec, f1 = calculate_metrics(model, transform_loader)\n",
    "        metrics['accuracy'].append(acc)\n",
    "        metrics['precision'].append(prec)\n",
    "        metrics['recall'].append(rec)\n",
    "        metrics['f1'].append(f1)\n",
    "        if M%100 == 0:\n",
    "            print(f'\\nMetrics for M={M}:')\n",
    "            print(f'Accuracy: {acc:.4f}')\n",
    "            print(f'Precision: {prec:.4f}')\n",
    "            print(f'Recall: {rec:.4f}')\n",
    "            print(f'F1: {f1:.4f}')\n",
    "        \n",
    "    # Plot results\n",
    "    if show_plot:\n",
    "        plt.figure(figsize=(8, 8))\n",
    "        plt.plot(MEASUREMENTS, metrics['accuracy'], label='Accuracy', color='royalblue')\n",
    "        plt.plot(MEASUREMENTS, metrics['f1'], label='F1-score', color='crimson')\n",
    "        \n",
    "        plt.xlabel('Number of SPC Measurements', fontsize=12)\n",
    "        plt.ylabel('Metric Value', fontsize=12)\n",
    "        plt.title('Model Performance vs SPC Measurements', fontsize=14)\n",
    "        plt.grid(True, linestyle=':', alpha=0.7)\n",
    "        plt.legend(fontsize=10)\n",
    "        plt.tight_layout()\n",
    "        plt.show()\n",
    "    \n",
    "    return metrics\n",
    "\n",
    "def analyze_class_probabilities(\n",
    "    model: nn.Module,\n",
    "    target_class: int,\n",
    "    class_names: List[str],\n",
    "    loader: DataLoader = None,\n",
    "    num_samples: int = 25,\n",
    "    top_n: int = 4\n",
    ") -> Dict[int, Dict[str, List[float]]]:\n",
    "    \"\"\"Analyze class probabilities across measurements.\n",
    "    \n",
    "    Args:\n",
    "        model: Model to evaluate\n",
    "        target_class: Class index to analyze\n",
    "        class_names: List of class names\n",
    "        loader: DataLoader or None\n",
    "        num_samples: Number of samples per class\n",
    "        top_n: Number of top classes to display\n",
    "        dataset:\n",
    "        \n",
    "    Returns:\n",
    "        Dictionary of class statistics\n",
    "    \"\"\"\n",
    "    stats = {i: {'avg_probs': [], 'std_probs': []} for i in range(len(class_names))}\n",
    "    \n",
    "    for M in tqdm(MEASUREMENTS, desc=\"Processing measurements\"):\n",
    "        # Load dataset\n",
    "        if not loader:\n",
    "            dataset = torch.load(f\"MNIST transform_testfor m = {M}.pt\", weights_only=False)\n",
    "            dataset.data = dataset.data.float()\n",
    "            loader = DataLoader(\n",
    "                dataset,\n",
    "                batch_size=BATCH_SIZE,\n",
    "                shuffle=False,\n",
    "                pin_memory=True,\n",
    "                num_workers=NUM_WORKERS\n",
    "            )\n",
    "        \n",
    "        # Collect predictions\n",
    "        class_probs = defaultdict(list)\n",
    "        with torch.no_grad():\n",
    "            for images, labels in loader:\n",
    "                images, labels = images.to(device), labels.to(device)\n",
    "                outputs = model(images)\n",
    "                probs = F.softmax(outputs, dim=1) * 100\n",
    "                \n",
    "                for prob, label in zip(probs, labels):\n",
    "                    if len(class_probs[label.item()]) < num_samples:\n",
    "                        class_probs[label.item()].append(prob[target_class].item())\n",
    "                \n",
    "                if all(len(v) >= num_samples for v in class_probs.values()):\n",
    "                    break\n",
    "        \n",
    "        # Calculate statistics\n",
    "        for class_id in range(len(class_names)):\n",
    "            samples = class_probs.get(class_id, [])\n",
    "            stats[class_id]['avg_probs'].append(np.mean(samples) if samples else 0)\n",
    "            stats[class_id]['std_probs'].append(np.std(samples) if samples else 0)\n",
    "    \n",
    "    # Visualize top classes\n",
    "    top_classes = sorted(\n",
    "        [(i, np.mean(stats[i]['avg_probs'])) for i in range(len(class_names))],\n",
    "        key=lambda x: -x[1]\n",
    "    )[:top_n]\n",
    "    \n",
    "    plt.figure(figsize=(12, 6))\n",
    "    colors = plt.cm.tab10.colors\n",
    "    \n",
    "    for idx, (class_id, _) in enumerate(top_classes):\n",
    "        avg = stats[class_id]['avg_probs']\n",
    "        std = stats[class_id]['std_probs']\n",
    "        \n",
    "        plt.plot(MEASUREMENTS, avg, \n",
    "                label=f'{class_names[class_id]}',\n",
    "                color=colors[class_id])\n",
    "        plt.fill_between(MEASUREMENTS,\n",
    "                       np.array(avg) - np.array(std),\n",
    "                       np.array(avg) + np.array(std),\n",
    "                       alpha=0.2,\n",
    "                       color=colors[class_id])\n",
    "    \n",
    "    plt.xlabel('Number of SPC Measurements')\n",
    "    plt.ylabel('Probability (%)')\n",
    "    plt.title(f'Probability for Class {class_names[target_class]}\\n({num_samples} samples)')\n",
    "    plt.legend()\n",
    "    plt.grid(True)\n",
    "    plt.ylim(0, 100)\n",
    "    plt.tight_layout()\n",
    "    plt.show()\n",
    "    \n",
    "    return stats"
   ]
  },
  {
   "cell_type": "code",
   "execution_count": 68,
   "metadata": {},
   "outputs": [],
   "source": [
    "import torch.nn as nn\n",
    "import torch.nn.functional as F\n",
    "from typing import Optional\n",
    "\n",
    "class MLP(nn.Module):\n",
    "    def __init__(self, input_dim: int = 32*32, dtype:torch.dtype = None):\n",
    "        \"\"\"\n",
    "        Multi-Layer Perceptron for classification.\n",
    "        \n",
    "        Args:\n",
    "            input_dim: Dimension of input features (default 32*32)\n",
    "            dtype: Data type for model parameters (default torch.float32)\n",
    "        \"\"\"\n",
    "        super().__init__()\n",
    "        self.dtype = dtype if dtype is not None else torch.float32\n",
    "        \n",
    "        self.ll1 = nn.Linear(input_dim, 256)\n",
    "        self.ll2 = nn.Linear(256, 64)\n",
    "        self.ll3 = nn.Linear(64, 10)\n",
    "        \n",
    "        # Initialize weights properly\n",
    "        self._initialize_weights()\n",
    "        \n",
    "        # Convert to specified dtype\n",
    "        self.to(self.dtype)\n",
    "        \n",
    "    def _initialize_weights(self):\n",
    "        \"\"\"Initialize weights with Kaiming normal and zeros for biases.\"\"\"\n",
    "        for m in self.modules():\n",
    "            if isinstance(m, nn.Linear):\n",
    "                nn.init.kaiming_normal_(m.weight, mode='fan_out', nonlinearity='relu')\n",
    "                if m.bias is not None:\n",
    "                    nn.init.constant_(m.bias, 0)\n",
    "    \n",
    "    def forward(self, x: torch.Tensor) -> torch.Tensor:\n",
    "        \"\"\"\n",
    "        Forward pass of the network.\n",
    "        \n",
    "        Args:\n",
    "            x: Input tensor of shape (batch_size, channels, height, width)\n",
    "            \n",
    "        Returns:\n",
    "            Output tensor of shape (batch_size, num_classes)\n",
    "        \"\"\"\n",
    "        # Ensure input dtype matches model dtype\n",
    "        if x.dtype != self.dtype:\n",
    "            x = x.to(self.dtype)\n",
    "            \n",
    "        # Flatten and process through layers\n",
    "        x = x.view(-1, self.ll1.in_features)  # Flatten to (batch_size, input_dim)\n",
    "        x = F.relu(self.ll1(x))\n",
    "        x = F.relu(self.ll2(x))\n",
    "        x = self.ll3(x)\n",
    "        return x"
   ]
  },
  {
   "cell_type": "code",
   "execution_count": 74,
   "metadata": {},
   "outputs": [],
   "source": [
    "def train_and_analyze(\n",
    "    architecture: torch.nn.Module,\n",
    "    train_loader: torch.utils.data.DataLoader,\n",
    "    test_loader: torch.utils.data.DataLoader,\n",
    "    name: str,\n",
    "    measurements: np.ndarray = np.arange(10, 1024, 10),\n",
    "    vec: bool = False,\n",
    ") -> Tuple[List[float], float, float, torch.nn.Module]:\n",
    "    \"\"\"\n",
    "    Complete training and analysis pipeline for a model.\n",
    "    \n",
    "    Args:\n",
    "        architecture: Model architecture to train\n",
    "        train_loader: Training data loader\n",
    "        test_loader: Test data loader\n",
    "        name: Base name for saving model\n",
    "        measurements: Array of measurement values for analysis\n",
    "        vec: Whether to use vector datasets for analysis\n",
    "        \n",
    "    Returns:\n",
    "        Tuple containing:\n",
    "        - accuracy_list: List of accuracy values for different measurements\n",
    "        - train_accuracy: Final training accuracy\n",
    "        - test_accuracy: Final test accuracy\n",
    "        - model: Trained model\n",
    "    \"\"\"\n",
    "    model = architecture.to(device)\n",
    "    train_accuracy, test_accuracy = train_model(model, train_loader, test_loader, save_path=name)\n",
    "    accuracy_lst = analyze_model_accuracy(model)['accuracy']\n",
    "    return accuracy_lst, train_accuracy, test_accuracy, model"
   ]
  },
  {
   "cell_type": "code",
   "execution_count": 77,
   "metadata": {},
   "outputs": [
    {
     "name": "stdout",
     "output_type": "stream",
     "text": [
      "\n",
      "Epoch 1 Results:\n",
      "Train Accuracy: 0.8951\n",
      "Test Accuracy: 0.8196\n",
      "\n",
      "Epoch 4 Results:\n",
      "Train Accuracy: 0.9898\n",
      "Test Accuracy: 0.8647\n",
      "\n",
      "Epoch 7 Results:\n",
      "Train Accuracy: 1.0000\n",
      "Test Accuracy: 0.8834\n",
      "\n",
      "Epoch 10 Results:\n",
      "Train Accuracy: 1.0000\n",
      "Test Accuracy: 0.8810\n"
     ]
    },
    {
     "name": "stderr",
     "output_type": "stream",
     "text": [
      "Analyzing measurements:   0%|          | 0/102 [00:00<?, ?it/s]c:\\Users\\Ruslan Khalikov\\AppData\\Local\\Programs\\Python\\Python312\\Lib\\site-packages\\sklearn\\metrics\\_classification.py:1531: UndefinedMetricWarning: Precision is ill-defined and being set to 0.0 in labels with no predicted samples. Use `zero_division` parameter to control this behavior.\n",
      "  _warn_prf(average, modifier, f\"{metric.capitalize()} is\", len(result))\n",
      "c:\\Users\\Ruslan Khalikov\\AppData\\Local\\Programs\\Python\\Python312\\Lib\\site-packages\\sklearn\\metrics\\_classification.py:1531: UndefinedMetricWarning: Precision is ill-defined and being set to 0.0 in labels with no predicted samples. Use `zero_division` parameter to control this behavior.\n",
      "  _warn_prf(average, modifier, f\"{metric.capitalize()} is\", len(result))\n",
      "c:\\Users\\Ruslan Khalikov\\AppData\\Local\\Programs\\Python\\Python312\\Lib\\site-packages\\sklearn\\metrics\\_classification.py:1531: UndefinedMetricWarning: Precision is ill-defined and being set to 0.0 in labels with no predicted samples. Use `zero_division` parameter to control this behavior.\n",
      "  _warn_prf(average, modifier, f\"{metric.capitalize()} is\", len(result))\n",
      "Analyzing measurements:  12%|█▏        | 12/102 [00:00<00:03, 24.50it/s]"
     ]
    },
    {
     "name": "stdout",
     "output_type": "stream",
     "text": [
      "\n",
      "Metrics for M=100:\n",
      "Accuracy: 0.7670\n",
      "Precision: 0.7696\n",
      "Recall: 0.7718\n",
      "F1: 0.7666\n"
     ]
    },
    {
     "name": "stderr",
     "output_type": "stream",
     "text": [
      "Analyzing measurements:  24%|██▎       | 24/102 [00:01<00:03, 20.10it/s]"
     ]
    },
    {
     "name": "stdout",
     "output_type": "stream",
     "text": [
      "\n",
      "Metrics for M=200:\n",
      "Accuracy: 0.9010\n",
      "Precision: 0.8989\n",
      "Recall: 0.9014\n",
      "F1: 0.8998\n"
     ]
    },
    {
     "name": "stderr",
     "output_type": "stream",
     "text": [
      "Analyzing measurements:  32%|███▏      | 33/102 [00:01<00:03, 21.47it/s]"
     ]
    },
    {
     "name": "stdout",
     "output_type": "stream",
     "text": [
      "\n",
      "Metrics for M=300:\n",
      "Accuracy: 0.8980\n",
      "Precision: 0.8989\n",
      "Recall: 0.8975\n",
      "F1: 0.8978\n"
     ]
    },
    {
     "name": "stderr",
     "output_type": "stream",
     "text": [
      "Analyzing measurements:  41%|████      | 42/102 [00:01<00:02, 21.50it/s]"
     ]
    },
    {
     "name": "stdout",
     "output_type": "stream",
     "text": [
      "\n",
      "Metrics for M=400:\n",
      "Accuracy: 0.9030\n",
      "Precision: 0.9021\n",
      "Recall: 0.9036\n",
      "F1: 0.9026\n"
     ]
    },
    {
     "name": "stderr",
     "output_type": "stream",
     "text": [
      "Analyzing measurements:  53%|█████▎    | 54/102 [00:02<00:02, 20.95it/s]"
     ]
    },
    {
     "name": "stdout",
     "output_type": "stream",
     "text": [
      "\n",
      "Metrics for M=500:\n",
      "Accuracy: 0.8910\n",
      "Precision: 0.8908\n",
      "Recall: 0.8899\n",
      "F1: 0.8899\n"
     ]
    },
    {
     "name": "stderr",
     "output_type": "stream",
     "text": [
      "Analyzing measurements:  62%|██████▏   | 63/102 [00:02<00:01, 20.23it/s]"
     ]
    },
    {
     "name": "stdout",
     "output_type": "stream",
     "text": [
      "\n",
      "Metrics for M=600:\n",
      "Accuracy: 0.8860\n",
      "Precision: 0.8859\n",
      "Recall: 0.8841\n",
      "F1: 0.8847\n"
     ]
    },
    {
     "name": "stderr",
     "output_type": "stream",
     "text": [
      "Analyzing measurements:  71%|███████   | 72/102 [00:03<00:01, 19.47it/s]"
     ]
    },
    {
     "name": "stdout",
     "output_type": "stream",
     "text": [
      "\n",
      "Metrics for M=700:\n",
      "Accuracy: 0.8830\n",
      "Precision: 0.8847\n",
      "Recall: 0.8818\n",
      "F1: 0.8828\n"
     ]
    },
    {
     "name": "stderr",
     "output_type": "stream",
     "text": [
      "Analyzing measurements:  81%|████████▏ | 83/102 [00:04<00:00, 19.96it/s]"
     ]
    },
    {
     "name": "stdout",
     "output_type": "stream",
     "text": [
      "\n",
      "Metrics for M=800:\n",
      "Accuracy: 0.8840\n",
      "Precision: 0.8858\n",
      "Recall: 0.8839\n",
      "F1: 0.8843\n"
     ]
    },
    {
     "name": "stderr",
     "output_type": "stream",
     "text": [
      "Analyzing measurements:  88%|████████▊ | 90/102 [00:04<00:00, 19.71it/s]"
     ]
    },
    {
     "name": "stdout",
     "output_type": "stream",
     "text": [
      "\n",
      "Metrics for M=900:\n",
      "Accuracy: 0.8720\n",
      "Precision: 0.8754\n",
      "Recall: 0.8718\n",
      "F1: 0.8721\n"
     ]
    },
    {
     "name": "stderr",
     "output_type": "stream",
     "text": [
      "Analyzing measurements: 100%|██████████| 102/102 [00:05<00:00, 20.05it/s]\n"
     ]
    },
    {
     "name": "stdout",
     "output_type": "stream",
     "text": [
      "\n",
      "Metrics for M=1000:\n",
      "Accuracy: 0.8830\n",
      "Precision: 0.8874\n",
      "Recall: 0.8821\n",
      "F1: 0.8834\n"
     ]
    },
    {
     "data": {
      "image/png": "[encoded data removed]",
      "text/plain": [
       "<Figure size 800x800 with 1 Axes>"
      ]
     },
     "metadata": {},
     "output_type": "display_data"
    },
    {
     "name": "stdout",
     "output_type": "stream",
     "text": [
      "\n",
      "Epoch 1 Results:\n",
      "Train Accuracy: 0.9042\n",
      "Test Accuracy: 0.8344\n",
      "\n",
      "Epoch 4 Results:\n",
      "Train Accuracy: 0.9949\n",
      "Test Accuracy: 0.8834\n",
      "\n",
      "Epoch 7 Results:\n",
      "Train Accuracy: 1.0000\n",
      "Test Accuracy: 0.8896\n",
      "\n",
      "Epoch 10 Results:\n",
      "Train Accuracy: 1.0000\n",
      "Test Accuracy: 0.8927\n"
     ]
    },
    {
     "name": "stderr",
     "output_type": "stream",
     "text": [
      "Analyzing measurements:   0%|          | 0/102 [00:00<?, ?it/s]c:\\Users\\Ruslan Khalikov\\AppData\\Local\\Programs\\Python\\Python312\\Lib\\site-packages\\sklearn\\metrics\\_classification.py:1531: UndefinedMetricWarning: Precision is ill-defined and being set to 0.0 in labels with no predicted samples. Use `zero_division` parameter to control this behavior.\n",
      "  _warn_prf(average, modifier, f\"{metric.capitalize()} is\", len(result))\n",
      "Analyzing measurements:  15%|█▍        | 15/102 [00:00<00:03, 27.57it/s]"
     ]
    },
    {
     "name": "stdout",
     "output_type": "stream",
     "text": [
      "\n",
      "Metrics for M=100:\n",
      "Accuracy: 0.7380\n",
      "Precision: 0.7437\n",
      "Recall: 0.7469\n",
      "F1: 0.7363\n"
     ]
    },
    {
     "name": "stderr",
     "output_type": "stream",
     "text": [
      "Analyzing measurements:  24%|██▎       | 24/102 [00:00<00:03, 24.77it/s]"
     ]
    },
    {
     "name": "stdout",
     "output_type": "stream",
     "text": [
      "\n",
      "Metrics for M=200:\n",
      "Accuracy: 0.8790\n",
      "Precision: 0.8765\n",
      "Recall: 0.8808\n",
      "F1: 0.8779\n"
     ]
    },
    {
     "name": "stderr",
     "output_type": "stream",
     "text": [
      "Analyzing measurements:  32%|███▏      | 33/102 [00:01<00:02, 23.64it/s]"
     ]
    },
    {
     "name": "stdout",
     "output_type": "stream",
     "text": [
      "\n",
      "Metrics for M=300:\n",
      "Accuracy: 0.8700\n",
      "Precision: 0.8672\n",
      "Recall: 0.8720\n",
      "F1: 0.8686\n"
     ]
    },
    {
     "name": "stderr",
     "output_type": "stream",
     "text": [
      "Analyzing measurements:  41%|████      | 42/102 [00:01<00:02, 23.57it/s]"
     ]
    },
    {
     "name": "stdout",
     "output_type": "stream",
     "text": [
      "\n",
      "Metrics for M=400:\n",
      "Accuracy: 0.8920\n",
      "Precision: 0.8897\n",
      "Recall: 0.8927\n",
      "F1: 0.8906\n"
     ]
    },
    {
     "name": "stderr",
     "output_type": "stream",
     "text": [
      "Analyzing measurements:  53%|█████▎    | 54/102 [00:02<00:02, 23.40it/s]"
     ]
    },
    {
     "name": "stdout",
     "output_type": "stream",
     "text": [
      "\n",
      "Metrics for M=500:\n",
      "Accuracy: 0.9010\n",
      "Precision: 0.8994\n",
      "Recall: 0.9018\n",
      "F1: 0.9003\n"
     ]
    },
    {
     "name": "stderr",
     "output_type": "stream",
     "text": [
      "Analyzing measurements:  59%|█████▉    | 60/102 [00:02<00:01, 23.62it/s]"
     ]
    },
    {
     "name": "stdout",
     "output_type": "stream",
     "text": [
      "\n",
      "Metrics for M=600:\n",
      "Accuracy: 0.8940\n",
      "Precision: 0.8923\n",
      "Recall: 0.8939\n",
      "F1: 0.8925\n"
     ]
    },
    {
     "name": "stderr",
     "output_type": "stream",
     "text": [
      "Analyzing measurements:  71%|███████   | 72/102 [00:03<00:01, 17.60it/s]"
     ]
    },
    {
     "name": "stdout",
     "output_type": "stream",
     "text": [
      "\n",
      "Metrics for M=700:\n",
      "Accuracy: 0.8940\n",
      "Precision: 0.8940\n",
      "Recall: 0.8935\n",
      "F1: 0.8930\n"
     ]
    },
    {
     "name": "stderr",
     "output_type": "stream",
     "text": [
      "Analyzing measurements:  80%|████████  | 82/102 [00:03<00:01, 18.03it/s]"
     ]
    },
    {
     "name": "stdout",
     "output_type": "stream",
     "text": [
      "\n",
      "Metrics for M=800:\n",
      "Accuracy: 0.8940\n",
      "Precision: 0.8966\n",
      "Recall: 0.8953\n",
      "F1: 0.8948\n"
     ]
    },
    {
     "name": "stderr",
     "output_type": "stream",
     "text": [
      "Analyzing measurements:  90%|█████████ | 92/102 [00:04<00:00, 16.55it/s]"
     ]
    },
    {
     "name": "stdout",
     "output_type": "stream",
     "text": [
      "\n",
      "Metrics for M=900:\n",
      "Accuracy: 0.8820\n",
      "Precision: 0.8837\n",
      "Recall: 0.8827\n",
      "F1: 0.8818\n"
     ]
    },
    {
     "name": "stderr",
     "output_type": "stream",
     "text": [
      "Analyzing measurements: 100%|██████████| 102/102 [00:04<00:00, 20.52it/s]"
     ]
    },
    {
     "name": "stdout",
     "output_type": "stream",
     "text": [
      "\n",
      "Metrics for M=1000:\n",
      "Accuracy: 0.8770\n",
      "Precision: 0.8829\n",
      "Recall: 0.8759\n",
      "F1: 0.8764\n"
     ]
    },
    {
     "name": "stderr",
     "output_type": "stream",
     "text": [
      "\n"
     ]
    },
    {
     "data": {
      "image/png": "[encoded data removed]",
      "text/plain": [
       "<Figure size 800x800 with 1 Axes>"
      ]
     },
     "metadata": {},
     "output_type": "display_data"
    },
    {
     "name": "stdout",
     "output_type": "stream",
     "text": [
      "\n",
      "Epoch 1 Results:\n",
      "Train Accuracy: 0.9048\n",
      "Test Accuracy: 0.8484\n",
      "\n",
      "Epoch 4 Results:\n",
      "Train Accuracy: 0.9929\n",
      "Test Accuracy: 0.8872\n",
      "\n",
      "Epoch 7 Results:\n",
      "Train Accuracy: 1.0000\n",
      "Test Accuracy: 0.9082\n",
      "\n",
      "Epoch 10 Results:\n",
      "Train Accuracy: 1.0000\n",
      "Test Accuracy: 0.9059\n"
     ]
    },
    {
     "name": "stderr",
     "output_type": "stream",
     "text": [
      "Analyzing measurements:   0%|          | 0/102 [00:00<?, ?it/s]c:\\Users\\Ruslan Khalikov\\AppData\\Local\\Programs\\Python\\Python312\\Lib\\site-packages\\sklearn\\metrics\\_classification.py:1531: UndefinedMetricWarning: Precision is ill-defined and being set to 0.0 in labels with no predicted samples. Use `zero_division` parameter to control this behavior.\n",
      "  _warn_prf(average, modifier, f\"{metric.capitalize()} is\", len(result))\n",
      "Analyzing measurements:  13%|█▎        | 13/102 [00:00<00:03, 27.73it/s]"
     ]
    },
    {
     "name": "stdout",
     "output_type": "stream",
     "text": [
      "\n",
      "Metrics for M=100:\n",
      "Accuracy: 0.7310\n",
      "Precision: 0.7335\n",
      "Recall: 0.7369\n",
      "F1: 0.7283\n"
     ]
    },
    {
     "name": "stderr",
     "output_type": "stream",
     "text": [
      "Analyzing measurements:  25%|██▌       | 26/102 [00:00<00:02, 27.94it/s]"
     ]
    },
    {
     "name": "stdout",
     "output_type": "stream",
     "text": [
      "\n",
      "Metrics for M=200:\n",
      "Accuracy: 0.8620\n",
      "Precision: 0.8606\n",
      "Recall: 0.8647\n",
      "F1: 0.8606\n"
     ]
    },
    {
     "name": "stderr",
     "output_type": "stream",
     "text": [
      "Analyzing measurements:  31%|███▏      | 32/102 [00:01<00:03, 22.93it/s]"
     ]
    },
    {
     "name": "stdout",
     "output_type": "stream",
     "text": [
      "\n",
      "Metrics for M=300:\n",
      "Accuracy: 0.8590\n",
      "Precision: 0.8569\n",
      "Recall: 0.8615\n",
      "F1: 0.8574\n"
     ]
    },
    {
     "name": "stderr",
     "output_type": "stream",
     "text": [
      "Analyzing measurements:  43%|████▎     | 44/102 [00:01<00:02, 24.45it/s]"
     ]
    },
    {
     "name": "stdout",
     "output_type": "stream",
     "text": [
      "\n",
      "Metrics for M=400:\n",
      "Accuracy: 0.8820\n",
      "Precision: 0.8801\n",
      "Recall: 0.8821\n",
      "F1: 0.8804\n"
     ]
    },
    {
     "name": "stderr",
     "output_type": "stream",
     "text": [
      "Analyzing measurements:  52%|█████▏    | 53/102 [00:02<00:02, 24.07it/s]"
     ]
    },
    {
     "name": "stdout",
     "output_type": "stream",
     "text": [
      "\n",
      "Metrics for M=500:\n",
      "Accuracy: 0.8980\n",
      "Precision: 0.8958\n",
      "Recall: 0.8996\n",
      "F1: 0.8969\n"
     ]
    },
    {
     "name": "stderr",
     "output_type": "stream",
     "text": [
      "Analyzing measurements:  64%|██████▎   | 65/102 [00:02<00:01, 24.00it/s]"
     ]
    },
    {
     "name": "stdout",
     "output_type": "stream",
     "text": [
      "\n",
      "Metrics for M=600:\n",
      "Accuracy: 0.9090\n",
      "Precision: 0.9077\n",
      "Recall: 0.9088\n",
      "F1: 0.9079\n"
     ]
    },
    {
     "name": "stderr",
     "output_type": "stream",
     "text": [
      "Analyzing measurements:  73%|███████▎  | 74/102 [00:03<00:01, 23.53it/s]"
     ]
    },
    {
     "name": "stdout",
     "output_type": "stream",
     "text": [
      "\n",
      "Metrics for M=700:\n",
      "Accuracy: 0.9120\n",
      "Precision: 0.9120\n",
      "Recall: 0.9115\n",
      "F1: 0.9110\n"
     ]
    },
    {
     "name": "stderr",
     "output_type": "stream",
     "text": [
      "Analyzing measurements:  81%|████████▏ | 83/102 [00:03<00:00, 21.66it/s]"
     ]
    },
    {
     "name": "stdout",
     "output_type": "stream",
     "text": [
      "\n",
      "Metrics for M=800:\n",
      "Accuracy: 0.9130\n",
      "Precision: 0.9131\n",
      "Recall: 0.9142\n",
      "F1: 0.9131\n"
     ]
    },
    {
     "name": "stderr",
     "output_type": "stream",
     "text": [
      "Analyzing measurements:  90%|█████████ | 92/102 [00:03<00:00, 17.75it/s]"
     ]
    },
    {
     "name": "stdout",
     "output_type": "stream",
     "text": [
      "\n",
      "Metrics for M=900:\n",
      "Accuracy: 0.9090\n",
      "Precision: 0.9113\n",
      "Recall: 0.9099\n",
      "F1: 0.9099\n"
     ]
    },
    {
     "name": "stderr",
     "output_type": "stream",
     "text": [
      "Analyzing measurements: 100%|██████████| 102/102 [00:04<00:00, 22.90it/s]"
     ]
    },
    {
     "name": "stdout",
     "output_type": "stream",
     "text": [
      "\n",
      "Metrics for M=1000:\n",
      "Accuracy: 0.9150\n",
      "Precision: 0.9183\n",
      "Recall: 0.9145\n",
      "F1: 0.9152\n"
     ]
    },
    {
     "name": "stderr",
     "output_type": "stream",
     "text": [
      "\n"
     ]
    },
    {
     "data": {
      "image/png": "[encoded data removed]",
      "text/plain": [
       "<Figure size 800x800 with 1 Axes>"
      ]
     },
     "metadata": {},
     "output_type": "display_data"
    }
   ],
   "source": [
    "processed_m = [200, 400, 600]\n",
    "accuracy_lsts = []\n",
    "models = []\n",
    "\n",
    "for M in processed_m:    \n",
    "    dataset = torch.load(f\"train_datasetMNIST_spc_M{M}.pt\", weights_only = False)\n",
    "    indices = np.arange(len(dataset))\n",
    "    train_idx, test_idx = train_test_split(indices, test_size=1/7, random_state=42)\n",
    "\n",
    "    train_dataset_ = Subset(dataset, train_idx)\n",
    "    test_dataset_ = Subset(dataset, test_idx)\n",
    "\n",
    "    train_loader_ = DataLoader(train_dataset_, batch_size=BATCH_SIZE, shuffle=True, pin_memory=True, num_workers=NUM_WORKERS)\n",
    "    test_loader_ = DataLoader(test_dataset_, batch_size=BATCH_SIZE, shuffle=False, pin_memory=True, num_workers=NUM_WORKERS)\n",
    "    accuracy_lst, _, _, model = train_and_analyze(MLP(), train_loader_, test_loader_, f\"Model for M = {M}\")\n",
    "    accuracy_lsts.append(accuracy_lst)\n",
    "    models.append(model)"
   ]
  }
 ],
 "metadata": {
  "kernelspec": {
   "display_name": "Python 3",
   "language": "python",
   "name": "python3"
  },
  "language_info": {
   "codemirror_mode": {
    "name": "ipython",
    "version": 3
   },
   "file_extension": ".py",
   "mimetype": "text/x-python",
   "name": "python",
   "nbconvert_exporter": "python",
   "pygments_lexer": "ipython3",
   "version": "3.12.4"
  }
 },
 "nbformat": 4,
 "nbformat_minor": 2
}
